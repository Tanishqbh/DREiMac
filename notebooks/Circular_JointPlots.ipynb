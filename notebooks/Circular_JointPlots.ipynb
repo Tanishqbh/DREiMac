{
 "cells": [
  {
   "cell_type": "markdown",
   "metadata": {},
   "source": [
    "## Interactive Joint Plots for Circular Coordinates\n",
    "\n",
    "This notebook shows how to interactively choose the cocycle representatives for multiple sets of circular coordinates, and how to plot them jointly\n",
    "\n",
    "### Example 1: Torus"
   ]
  },
  {
   "cell_type": "code",
   "execution_count": null,
   "metadata": {},
   "outputs": [],
   "source": [
    "import matplotlib.pyplot as plt\n",
    "import numpy as np\n",
    "from dreimac import CircularCoords, set_3dplot_equalaspect\n",
    "\n",
    "prime = 41\n",
    "np.random.seed(2)\n",
    "N = 10000\n",
    "R = 5\n",
    "r = 2\n",
    "X = np.zeros((N, 3))\n",
    "theta = np.random.rand(N)*2*np.pi\n",
    "phi = np.random.rand(N)*2*np.pi\n",
    "X[:, 0] = (R + r*np.cos(theta))*np.cos(phi)\n",
    "X[:, 1] = (R + r*np.cos(theta))*np.sin(phi)\n",
    "X[:, 2] = r*np.sin(theta)\n",
    "\n",
    "cc = CircularCoords(X, 100, prime = prime)\n",
    "f = phi\n",
    "def plot_torus(ax):\n",
    "    ax.scatter(X[:, 0], X[:, 1], X[:, 2], c=f, s=1, cmap='magma_r')\n",
    "    set_3dplot_equalaspect(ax, X)\n",
    "cc.plot_torii(f, coords_info=2, plots_in_one=2, lowerleft_plot=plot_torus, lowerleft_3d=True)"
   ]
  },
  {
   "cell_type": "code",
   "execution_count": null,
   "metadata": {},
   "outputs": [],
   "source": [
    "plt.savefig(\"Torus2.svg\", bbox_inches='tight')"
   ]
  },
  {
   "cell_type": "markdown",
   "metadata": {},
   "source": [
    "## Example 2: 2 Circles\n"
   ]
  },
  {
   "cell_type": "code",
   "execution_count": null,
   "metadata": {},
   "outputs": [],
   "source": [
    "# Sample two noisy circles\n",
    "prime = 41\n",
    "np.random.seed(0)\n",
    "N = 500\n",
    "X = np.zeros((N*2, 2))\n",
    "t = np.linspace(0, 1, N+1)[0:N]**1.2\n",
    "t = 2*np.pi*t\n",
    "X[0:N, 0] = np.cos(t)\n",
    "X[0:N, 1] = np.sin(t)\n",
    "X[N::, 0] = 2*np.cos(t) + 4\n",
    "X[N::, 1] = 2*np.sin(t) + 4\n",
    "X = X + 0.2*np.random.randn(X.shape[0], 2)\n",
    "\n",
    "# Come up with different colors for each circle\n",
    "fscaled = t - np.min(t)\n",
    "fscaled = fscaled/np.max(fscaled)\n",
    "c = plt.get_cmap('BuGn')\n",
    "C1 = c(np.array(np.round(fscaled*255), dtype=np.int32))[:, 0:3]\n",
    "c = plt.get_cmap('OrRd')\n",
    "C2 = c(np.array(np.round(fscaled*255), dtype=np.int32))[:, 0:3]\n",
    "C = np.concatenate((C1, C2), axis=0)\n",
    "\n",
    "perm = np.random.permutation(X.shape[0])\n",
    "X = X[perm, :]\n",
    "C = C[perm, :]\n",
    "\n",
    "def plot_circles(ax):\n",
    "    ax.scatter(X[:, 0], X[:, 1], c=C)\n",
    "\n",
    "cc = CircularCoords(X, 100, prime = prime)\n",
    "cc.plot_torii(C, coords_info=2, plots_in_one=3, lowerleft_plot=plot_circles)"
   ]
  },
  {
   "cell_type": "markdown",
   "metadata": {},
   "source": [
    "# Example 3: 3 Links"
   ]
  },
  {
   "cell_type": "code",
   "execution_count": null,
   "metadata": {},
   "outputs": [],
   "source": [
    "# Sample two noisy circles\n",
    "prime = 41\n",
    "np.random.seed(0)\n",
    "N = 500\n",
    "X = np.zeros((N*3, 3))\n",
    "t = np.linspace(0, 1, N+1)[0:N]**1.2\n",
    "t = 2*np.pi*t\n",
    "X[0:N, 0] = 2*np.cos(t)\n",
    "X[0:N, 1] = 2*np.sin(t)\n",
    "X[N:2*N, 1] = 4*np.cos(t) + 4\n",
    "X[N:2*N, 2] = 4*np.sin(t)\n",
    "X[2*N::, 0] = 4*np.cos(t)\n",
    "X[2*N::, 1] = 4\n",
    "X[2*N::, 2] = 4*np.sin(t) + 3\n",
    "X = X + 0.2*np.random.randn(X.shape[0], 3)\n",
    "\n",
    "fscaled = t - np.min(t)\n",
    "fscaled = fscaled/np.max(fscaled)\n",
    "c = plt.get_cmap('BuGn')\n",
    "C1 = c(np.array(np.round(fscaled*255), dtype=np.int32))[:, 0:3]\n",
    "c = plt.get_cmap('OrRd')\n",
    "C2 = c(np.array(np.round(fscaled*255), dtype=np.int32))[:, 0:3]\n",
    "c = plt.get_cmap('BuPu')\n",
    "C3 = c(np.array(np.round(fscaled*255), dtype=np.int32))[:, 0:3]\n",
    "C = np.concatenate((C1, C2, C3), axis=0)\n",
    "\n",
    "perm = np.random.permutation(X.shape[0])\n",
    "X = X[perm, :]\n",
    "C = C[perm, :]\n",
    "\n",
    "\n",
    "def plot_circles(ax):\n",
    "    ax.scatter(X[:, 0], X[:, 1], X[:, 2], c=C)\n",
    "cc = CircularCoords(X, 100, prime = prime)\n",
    "cc.plot_torii(C, coords_info=2, plots_in_one=3, lowerleft_plot=plot_circles, lowerleft_3d=True)"
   ]
  },
  {
   "cell_type": "code",
   "execution_count": null,
   "metadata": {},
   "outputs": [],
   "source": [
    "plt.savefig(\"3Links.svg\", bbox_inches='tight')"
   ]
  },
  {
   "cell_type": "code",
   "execution_count": null,
   "metadata": {},
   "outputs": [],
   "source": []
  }
 ],
 "metadata": {
  "kernelspec": {
   "display_name": "Python 3 (ipykernel)",
   "language": "python",
   "name": "python3"
  },
  "language_info": {
   "codemirror_mode": {
    "name": "ipython",
    "version": 3
   },
   "file_extension": ".py",
   "mimetype": "text/x-python",
   "name": "python",
   "nbconvert_exporter": "python",
   "pygments_lexer": "ipython3",
   "version": "3.9.15"
  }
 },
 "nbformat": 4,
 "nbformat_minor": 4
}
